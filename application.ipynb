{
 "cells": [
  {
   "cell_type": "code",
   "execution_count": 6,
   "id": "a0237e9d",
   "metadata": {},
   "outputs": [],
   "source": [
    "import pandas as pd\n",
    "import numpy as np\n",
    "import matplotlib.pyplot as plt\n",
    "import seaborn as sns"
   ]
  },
  {
   "cell_type": "code",
   "execution_count": 7,
   "id": "f3dfdf04",
   "metadata": {},
   "outputs": [
    {
     "data": {
      "text/html": [
       "<div>\n",
       "<style scoped>\n",
       "    .dataframe tbody tr th:only-of-type {\n",
       "        vertical-align: middle;\n",
       "    }\n",
       "\n",
       "    .dataframe tbody tr th {\n",
       "        vertical-align: top;\n",
       "    }\n",
       "\n",
       "    .dataframe thead th {\n",
       "        text-align: right;\n",
       "    }\n",
       "</style>\n",
       "<table border=\"1\" class=\"dataframe\">\n",
       "  <thead>\n",
       "    <tr style=\"text-align: right;\">\n",
       "      <th></th>\n",
       "      <th>serial</th>\n",
       "      <th>model</th>\n",
       "      <th>build</th>\n",
       "    </tr>\n",
       "  </thead>\n",
       "  <tbody>\n",
       "    <tr>\n",
       "      <th>0</th>\n",
       "      <td>LOOMA001</td>\n",
       "      <td>A1</td>\n",
       "      <td>B2025</td>\n",
       "    </tr>\n",
       "    <tr>\n",
       "      <th>1</th>\n",
       "      <td>LOOMA002</td>\n",
       "      <td>A1</td>\n",
       "      <td>B2025</td>\n",
       "    </tr>\n",
       "    <tr>\n",
       "      <th>2</th>\n",
       "      <td>LOOMA003</td>\n",
       "      <td>A2</td>\n",
       "      <td>B2024</td>\n",
       "    </tr>\n",
       "    <tr>\n",
       "      <th>3</th>\n",
       "      <td>LOOMA004</td>\n",
       "      <td>A2</td>\n",
       "      <td>B2024</td>\n",
       "    </tr>\n",
       "    <tr>\n",
       "      <th>4</th>\n",
       "      <td>LOOMA005</td>\n",
       "      <td>A3</td>\n",
       "      <td>B2023</td>\n",
       "    </tr>\n",
       "  </tbody>\n",
       "</table>\n",
       "</div>"
      ],
      "text/plain": [
       "     serial model  build\n",
       "0  LOOMA001    A1  B2025\n",
       "1  LOOMA002    A1  B2025\n",
       "2  LOOMA003    A2  B2024\n",
       "3  LOOMA004    A2  B2024\n",
       "4  LOOMA005    A3  B2023"
      ]
     },
     "execution_count": 7,
     "metadata": {},
     "output_type": "execute_result"
    }
   ],
   "source": [
    "devices = pd.read_csv(\"loomadevices.csv\")\n",
    "devices.head()"
   ]
  },
  {
   "cell_type": "code",
   "execution_count": 14,
   "id": "8051dfe1",
   "metadata": {},
   "outputs": [
    {
     "name": "stdout",
     "output_type": "stream",
     "text": [
      "Generated QR for LOOMA001\n",
      "Generated QR for LOOMA002\n",
      "Generated QR for LOOMA003\n",
      "Generated QR for LOOMA004\n",
      "Generated QR for LOOMA005\n"
     ]
    }
   ],
   "source": [
    "import pandas as pd\n",
    "import qrcode\n",
    "import os\n",
    "\n",
    "# Read device info from CSV\n",
    "data = pd.read_csv(\"loomadevices.csv\")  # columns: serial, model, build\n",
    "\n",
    "# Output folder\n",
    "os.makedirs(\"qr_codes\", exist_ok=True)\n",
    "for index, row in data.iterrows():\n",
    "    serial = row['serial']\n",
    "    model = row['model']\n",
    "    build = row['build']\n",
    "    url = f\"http://127.0.0.1:5000serial={serial}&model={model}&build={build}\"\n",
    "\n",
    "    qr = qrcode.make(url)\n",
    "    qr.save(f\"qr_codes/{serial}.png\")\n",
    "\n",
    "    print(f\"Generated QR for {serial}\")"
   ]
  },
  {
   "cell_type": "code",
   "execution_count": 15,
   "id": "5d7d8121",
   "metadata": {},
   "outputs": [],
   "source": [
    "from flask import Flask, render_template, request\n",
    "import csv\n",
    "from datetime import datetime\n",
    "from pymongo import MongoClient\n",
    "import os\n",
    "\n",
    "app = Flask(__name__)\n",
    "\n",
    "# MongoDB connection\n",
    "client = MongoClient('mongodb://localhost:27017/')\n",
    "db = client['looma']\n",
    "collection = db['scans']\n",
    "\n",
    "# Load device info from CSV\n",
    "def find_device(serial):\n",
    "    with open('loomadevices.csv', newline='') as csvfile:\n",
    "        reader = csv.DictReader(csvfile)\n",
    "        for row in reader:\n",
    "            if row['serial'] == serial:\n",
    "                return row\n",
    "    return None\n",
    "\n",
    "@app.route('/', methods=['GET', 'POST'])\n",
    "def index():\n",
    "    device = None\n",
    "    success = False\n",
    "\n",
    "    if request.method == 'POST':\n",
    "        serial = request.form['serial']\n",
    "        username = request.form['username']\n",
    "        location = request.form['location']\n",
    "\n",
    "        device = find_device(serial)\n",
    "\n",
    "        if device:\n",
    "            # Create MongoDB document\n",
    "            document = {\n",
    "                'timestamp': datetime.utcnow(),\n",
    "                'serial': serial,\n",
    "                'model': device['model'],\n",
    "                'build': device['build'],\n",
    "                'username': username,\n",
    "                'location': location\n",
    "            }\n",
    "            collection.insert_one(document)\n",
    "            success = True\n",
    "\n",
    "    return render_template('index.html', device=device, success=success)\n",
    "\n",
    "if __name__ == '__main__':\n",
    "    if os.environ.get('WERKZEUG_RUN_MAIN') == 'true':\n",
    "        app.run(debug=True)"
   ]
  }
 ],
 "metadata": {
  "kernelspec": {
   "display_name": "Python 3",
   "language": "python",
   "name": "python3"
  },
  "language_info": {
   "codemirror_mode": {
    "name": "ipython",
    "version": 3
   },
   "file_extension": ".py",
   "mimetype": "text/x-python",
   "name": "python",
   "nbconvert_exporter": "python",
   "pygments_lexer": "ipython3",
   "version": "3.10.16"
  }
 },
 "nbformat": 4,
 "nbformat_minor": 5
}
